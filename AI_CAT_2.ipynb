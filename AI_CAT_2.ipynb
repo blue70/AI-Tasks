// Carlifornia Dataset using Linear Regression 
{
  "nbformat": 4,
  "nbformat_minor": 0,
  "metadata": {
    "colab": {
      "name": "AI CAT 2.ipynb",
      "provenance": [],
      "authorship_tag": "ABX9TyPsdKEvPiB8cU9666mX7x7R"
    },
    "kernelspec": {
      "name": "python3",
      "display_name": "Python 3"
    }
  },
  "cells": [
    {
      "cell_type": "code",
      "metadata": {
        "id": "CtgvTPLJxfwO"
      },
      "source": [
        "import pandas as pd\r\n",
        "import matplotlib.pyplot as plt\r\n",
        "import numpy as np\r\n",
        "from sklearn.datasets import fetch_california_housing"
      ],
      "execution_count": null,
      "outputs": []
    },
    {
      "cell_type": "code",
      "metadata": {
        "colab": {
          "base_uri": "https://localhost:8080/"
        },
        "id": "REM2K7n31uCx",
        "outputId": "27fea2ea-6d7b-4ba5-ac6d-565f054507b7"
      },
      "source": [
        "dataset = fetch_california_housing()\r\n",
        "X_full, y_full = dataset.data, dataset.target"
      ],
      "execution_count": null,
      "outputs": [
        {
          "output_type": "stream",
          "text": [
            "Downloading Cal. housing from https://ndownloader.figshare.com/files/5976036 to /root/scikit_learn_data\n"
          ],
          "name": "stderr"
        }
      ]
    },
    {
      "cell_type": "code",
      "metadata": {
        "id": "CCx_Cer-xwZj"
      },
      "source": [
        "# y-intercept, slope, learning rate and epochs - error list and iteration list\r\n",
        "m = 1\r\n",
        "c = 0\r\n",
        "L = 0.0001\r\n",
        "epoch = 3\r\n",
        "epoch_error_list = []\r\n",
        "epoch_count_list = []"
      ],
      "execution_count": null,
      "outputs": []
    },
    {
      "cell_type": "code",
      "metadata": {
        "colab": {
          "base_uri": "https://localhost:8080/"
        },
        "id": "koLbd5B4yrKQ",
        "outputId": "420e3f51-8804-48eb-9e16-04d2692ea5a6"
      },
      "source": [
        "X = dataset.data['size_in_sq_ft']\r\n",
        "Y = dataset.data['price_x1000_sh']\r\n",
        "N = float(len(X))"
      ],
      "execution_count": null,
      "outputs": [
        {
          "output_type": "error",
          "ename": "IndexError",
          "evalue": "ignored",
          "traceback": [
            "\u001b[0;31m---------------------------------------------------------------------------\u001b[0m",
            "\u001b[0;31mIndexError\u001b[0m                                Traceback (most recent call last)",
            "\u001b[0;32m<ipython-input-11-0ae8231b333c>\u001b[0m in \u001b[0;36m<module>\u001b[0;34m()\u001b[0m\n\u001b[0;32m----> 1\u001b[0;31m \u001b[0mX\u001b[0m \u001b[0;34m=\u001b[0m \u001b[0mdataset\u001b[0m\u001b[0;34m.\u001b[0m\u001b[0mdata\u001b[0m\u001b[0;34m[\u001b[0m\u001b[0;34m'size_in_sq_ft'\u001b[0m\u001b[0;34m]\u001b[0m\u001b[0;34m\u001b[0m\u001b[0;34m\u001b[0m\u001b[0m\n\u001b[0m\u001b[1;32m      2\u001b[0m \u001b[0mY\u001b[0m \u001b[0;34m=\u001b[0m \u001b[0mdataset\u001b[0m\u001b[0;34m.\u001b[0m\u001b[0mdata\u001b[0m\u001b[0;34m[\u001b[0m\u001b[0;34m'price_x1000_sh'\u001b[0m\u001b[0;34m]\u001b[0m\u001b[0;34m\u001b[0m\u001b[0;34m\u001b[0m\u001b[0m\n\u001b[1;32m      3\u001b[0m \u001b[0mN\u001b[0m \u001b[0;34m=\u001b[0m \u001b[0mfloat\u001b[0m\u001b[0;34m(\u001b[0m\u001b[0mlen\u001b[0m\u001b[0;34m(\u001b[0m\u001b[0mX\u001b[0m\u001b[0;34m)\u001b[0m\u001b[0;34m)\u001b[0m\u001b[0;34m\u001b[0m\u001b[0;34m\u001b[0m\u001b[0m\n",
            "\u001b[0;31mIndexError\u001b[0m: only integers, slices (`:`), ellipsis (`...`), numpy.newaxis (`None`) and integer or boolean arrays are valid indices"
          ]
        }
      ]
    },
    {
      "cell_type": "code",
      "metadata": {
        "id": "g9ad4zuyy0sD"
      },
      "source": [
        "def mse(N, Y, Y_hat):\r\n",
        "  return (1/N) * sum(Y - Y_hat) ** 2"
      ],
      "execution_count": null,
      "outputs": []
    },
    {
      "cell_type": "code",
      "metadata": {
        "id": "fHqUR7q2y5iO"
      },
      "source": [
        "def gradient_descent_fit(m, c, N, L):\r\n",
        "  \r\n",
        "  for i in range(epoch):\r\n",
        "    #predicted value\r\n",
        "    Y_hat = m * X + c\r\n",
        "    epoch_count_list.append(i)\r\n",
        "    epoch_error = mse(N, Y, Y_hat)\r\n",
        "    epoch_error_list.append(epoch_error)\r\n",
        "\r\n",
        "    #derivative wrt to m\r\n",
        "    D_m = (-2/N) * sum(X * (Y - Y_hat))\r\n",
        "    #derivative wrt to c\r\n",
        "    D_c = (-2/N) * sum(Y - Y_hat)\r\n",
        "\r\n",
        "    #new values of m and c\r\n",
        "    m = m - (L * D_m)\r\n",
        "    c = c - (L * D_c)\r\n",
        "  print('Final m is : ',m,\" and final c is : \",c)\r\n",
        "  return Y_hat"
      ],
      "execution_count": null,
      "outputs": []
    },
    {
      "cell_type": "code",
      "metadata": {
        "id": "ZnkVynUsy-ci"
      },
      "source": [
        "#Perform the plot\r\n",
        "fig,(ax1,ax2) = plt.subplots(2)\r\n",
        "ax1.scatter(X, Y)\r\n",
        "#Define labels\r\n",
        "Y_hat = gradient_descent_fit(m, c, N, L)\r\n",
        "ax1.plot([min(X), max(X)],[min(Y_hat), max(Y_hat)],color='black')\r\n",
        "ax2.plot(epoch_count_list,epoch_error_list,color=\"pink\")"
      ],
      "execution_count": null,
      "outputs": []
    }
  ]
}
